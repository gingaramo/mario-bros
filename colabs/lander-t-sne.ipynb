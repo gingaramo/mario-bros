{
 "cells": [
  {
   "cell_type": "code",
   "execution_count": 143,
   "id": "75a15e80",
   "metadata": {},
   "outputs": [
    {
     "name": "stdout",
     "output_type": "stream",
     "text": [
      "Current Directory: /Users/gaston/Code/MarioBros\n",
      "Changing to MarioBros root directory: /Users/gaston/Code/MarioBros\n"
     ]
    }
   ],
   "source": [
    "import os\n",
    "\n",
    "# Use os.getcwd() to check your current directory\n",
    "print(\"Current Directory:\", os.getcwd())\n",
    "current_path = os.getcwd()\n",
    "mario_root_path = current_path.split(\"MarioBros\")[0] + \"MarioBros\"\n",
    "print(\"Changing to MarioBros root directory:\", mario_root_path)\n",
    "\n",
    "# Use os.chdir() to change the directory\n",
    "os.chdir(mario_root_path)\n"
   ]
  },
  {
   "cell_type": "code",
   "execution_count": 168,
   "id": "bcceabe5",
   "metadata": {},
   "outputs": [
    {
     "name": "stdout",
     "output_type": "stream",
     "text": [
      "Configuration loaded from: agents/experiments_1/lander_prev_action.yaml\n"
     ]
    }
   ],
   "source": [
    "from src.config import load_configuration\n",
    "\n",
    "config = load_configuration(\"agents/experiments_1/lander_prev_action.yaml\")\n",
    "config['env']['num_envs'] = 1"
   ]
  },
  {
   "cell_type": "code",
   "execution_count": 169,
   "id": "5f41bb03",
   "metadata": {},
   "outputs": [],
   "source": [
    "import numpy as np\n",
    "from tqdm import tqdm\n",
    "\n",
    "from src.environment import create_environment\n",
    "from src.agent_utils import execute_agent_step, create_agent\n",
    "from src.tb_logging import DummySummaryWriter\n",
    "\n",
    "\n",
    "\n",
    "def run_episodes(config, episodes=5, frame_downsampling=5):\n",
    "  # Create environment, summary writer, and agent\n",
    "  env = create_environment(config['env'], 'synchronous')\n",
    "  summary_writer = DummySummaryWriter()\n",
    "  agent = create_agent(config, env, summary_writer)\n",
    "  \n",
    "  last_layer_inputs, frames, cum_rewards, episode_nums, step_nums = [], [], [], [], []\n",
    "\n",
    "  for i in range(episodes):\n",
    "    last_layer_input_, frames_, cum_reward_ = run_episode(env, agent)\n",
    "    # Compute cumulative rewards now:\n",
    "    for j in range(len(cum_reward_)-2, -1, -1):\n",
    "        cum_reward_[j] += config['agent']['gamma'] * cum_reward_[j+1]\n",
    "    # Keep one frame every 5 (reducing amount of data)\n",
    "    last_layer_input_ = last_layer_input_[::frame_downsampling]\n",
    "    frames_ = frames_[::frame_downsampling]\n",
    "    cum_reward_ = cum_reward_[::frame_downsampling]\n",
    "\n",
    "    last_layer_inputs.extend(last_layer_input_)\n",
    "    frames.extend(frames_)\n",
    "    cum_rewards.extend(cum_reward_)\n",
    "    episode_nums.extend([i+1 for _ in range(len(last_layer_input_))])\n",
    "    steps = np.array(list(range(len(last_layer_input_)))).astype('float')\n",
    "    steps /= float(len(last_layer_input_))\n",
    "    step_nums.extend(steps.astype('float').tolist())\n",
    "\n",
    "  last_layer_inputs = np.array(last_layer_inputs)\n",
    "  frames = np.array(frames)\n",
    "\n",
    "  # Normalize reward (between 1 and 5)\n",
    "  cum_rewards = np.array(cum_rewards)\n",
    "  cum_rewards = cum_rewards - cum_rewards.min()\n",
    "  cum_rewards = cum_rewards / cum_rewards.max() * 4 + 1\n",
    "  return last_layer_inputs, frames, cum_rewards, episode_nums, step_nums\n",
    "\n",
    "def run_episode(env, agent):\n",
    "  observation, _ = env.reset()\n",
    "  steps = 0\n",
    "  last_layer_input = []\n",
    "  frames = []\n",
    "  cum_reward = []\n",
    "\n",
    "  def hook_fn(module, input, output):\n",
    "    # Remove batch dimension, and for some reason the initial x is a tuple.\n",
    "    #last_layer_input.append(output[0].detach().cpu().numpy())\n",
    "    # input is a tuple, so we access the first element, and keep only one exemplar\n",
    "    last_layer_input.append(input[0][0].detach().cpu().numpy())\n",
    "\n",
    "  handle = agent.model.hidden_layers[-1].register_forward_hook(hook_fn)\n",
    "  while True:\n",
    "\n",
    "    action, q_values = agent.act(observation)\n",
    "    steps += 1\n",
    "\n",
    "    experience = execute_agent_step(action, lambda action: env.step(action),\n",
    "                                    observation, agent.summary_writer)\n",
    "    (observation, action, reward, next_observation, done, info) = experience\n",
    "    cum_reward.append(reward[0])\n",
    "    frames.append(info['observation_frame'][0])\n",
    "\n",
    "    # Store experience if we're not at the begining of an episode\n",
    "    for i, (obs, act, rew, neo, don) in enumerate(\n",
    "        zip(observation.as_list_input('cpu'), action, reward,\n",
    "            next_observation.as_list_input('cpu'), done)):\n",
    "      if don:\n",
    "        env.close()\n",
    "        handle.remove()\n",
    "        print(f\"completed {steps=}\")\n",
    "        return last_layer_input, frames, cum_reward\n",
    "    observation = next_observation\n"
   ]
  },
  {
   "cell_type": "code",
   "execution_count": 170,
   "id": "6916681a",
   "metadata": {},
   "outputs": [
    {
     "name": "stdout",
     "output_type": "stream",
     "text": [
      "Using device: mps\n",
      "Resuming from checkpoint. Episode 0, global step 500000, trained experiences 15992064\n",
      "Using uniform replay buffer with size 100000\n",
      "Model summary: DQN(\n",
      "  (convolutions): ModuleList()\n",
      "  (activation): LeakyReLU(negative_slope=0.01)\n",
      "  (hidden_layers): ModuleList(\n",
      "    (0): Linear(in_features=33, out_features=64, bias=True)\n",
      "    (1): Linear(in_features=64, out_features=32, bias=True)\n",
      "    (2): Linear(in_features=32, out_features=16, bias=True)\n",
      "    (3): Linear(in_features=16, out_features=4, bias=True)\n",
      "  )\n",
      ")\n",
      "Parameters: 4852\n",
      "completed steps=295\n",
      "completed steps=246\n",
      "completed steps=218\n",
      "completed steps=190\n",
      "completed steps=193\n",
      "completed steps=240\n",
      "completed steps=323\n",
      "completed steps=239\n",
      "completed steps=251\n",
      "completed steps=250\n",
      " - Done running episodes\n"
     ]
    }
   ],
   "source": [
    "## UMAP solution\n",
    "import numpy as np\n",
    "import plotly.express as px\n",
    "from PIL import Image\n",
    "import io\n",
    "import base64\n",
    "import pandas as pd\n",
    "from dash import Dash, dcc, html, Input, Output, no_update, callback\n",
    "\n",
    "last_layer_inputs, frames, cum_rewards, episode_num, step_num = run_episodes(config, episodes=10, frame_downsampling=5)\n",
    "print(\" - Done running episodes\")"
   ]
  },
  {
   "cell_type": "code",
   "execution_count": 171,
   "id": "ac31e890",
   "metadata": {},
   "outputs": [],
   "source": [
    "import umap\n",
    "from sklearn.manifold import TSNE\n",
    "from sklearn.decomposition import PCA\n",
    "\n",
    "def umap_projection(last_layer_inputs, n_components=3, random_state=0):\n",
    "  reducer = umap.UMAP(n_components=n_components, random_state=random_state)\n",
    "  projections = reducer.fit_transform(last_layer_inputs)\n",
    "  print(\" - Done fitting UMAP\")\n",
    "  return projections\n",
    "\n",
    "def tsne_projection(last_layer_inputs, n_components=3, random_state=0):\n",
    "  reducer = TSNE(n_components=n_components, random_state=random_state)\n",
    "  projections = reducer.fit_transform(last_layer_inputs)\n",
    "  print(\" - Done fitting t-SNE\")\n",
    "  return projections\n",
    "\n",
    "def pca_projection(last_layer_inputs, n_components=3, random_state=0):\n",
    "  reducer = PCA(n_components=n_components)\n",
    "  projections = reducer.fit_transform(last_layer_inputs)\n",
    "  print(\" - Done fitting PCA\")\n",
    "  return projections\n",
    "\n",
    "\n",
    "def dataframe_with_images(projections, embeddings, frames, cum_rewards, episode_num, step_num):\n",
    "  dataframe = pd.DataFrame(projections,\n",
    "                        columns=[f'dim {i+1}' for i in range(projections.shape[1])])\n",
    "  dataframe['reward'] = cum_rewards\n",
    "  dataframe['episode_num'] = episode_num\n",
    "  dataframe['embedding_distance'] = np.concatenate([[0], np.linalg.norm(embeddings[1:] - embeddings[:-1], axis=1)])\n",
    "  dataframe['step_num'] = step_num\n",
    "  dataframe['projection_distance'] = np.concatenate([[0], np.linalg.norm(projections[1:] - projections[:-1], axis=1)])\n",
    "\n",
    "\n",
    "  def _image_to_base64_string(img_array):\n",
    "    img = Image.fromarray(img_array.astype('uint8'))\n",
    "    buffer = io.BytesIO()\n",
    "    img.save(buffer, format=\"JPEG\")\n",
    "    img_str = base64.b64encode(buffer.getvalue()).decode(\"utf-8\")\n",
    "    return f\"data:image/jpeg;base64,{img_str}\"\n",
    "  base64_frames = np.array([_image_to_base64_string(frame) for frame in frames])\n",
    "  dataframe['base64_frame'] = base64_frames\n",
    "  print(\" - Done creating dataframe\")\n",
    "  return dataframe"
   ]
  },
  {
   "cell_type": "code",
   "execution_count": 172,
   "id": "01e49818",
   "metadata": {},
   "outputs": [
    {
     "name": "stdout",
     "output_type": "stream",
     "text": [
      " - Done fitting PCA\n",
      " - Done creating dataframe\n"
     ]
    },
    {
     "name": "stderr",
     "output_type": "stream",
     "text": [
      "/opt/miniconda3/envs/MarioBros/lib/python3.11/site-packages/umap/umap_.py:1952: UserWarning:\n",
      "\n",
      "n_jobs value 1 overridden to 1 by setting random_state. Use no seed for parallelism.\n",
      "\n"
     ]
    },
    {
     "name": "stdout",
     "output_type": "stream",
     "text": [
      " - Done fitting UMAP\n",
      " - Done creating dataframe\n",
      " - Done fitting t-SNE\n",
      " - Done creating dataframe\n"
     ]
    }
   ],
   "source": [
    "projections = pca_projection(last_layer_inputs, n_components=3, random_state=0)\n",
    "pca_df = dataframe_with_images(projections, last_layer_inputs, frames, cum_rewards, episode_num, step_num)\n",
    "projections = umap_projection(last_layer_inputs, n_components=3, random_state=0)\n",
    "umap_df = dataframe_with_images(projections, last_layer_inputs, frames, cum_rewards, episode_num, step_num)\n",
    "projections = tsne_projection(last_layer_inputs, n_components=3, random_state=0)\n",
    "tsne_df = dataframe_with_images(projections, last_layer_inputs, frames, cum_rewards, episode_num, step_num)"
   ]
  },
  {
   "cell_type": "code",
   "execution_count": 173,
   "id": "8b75bfe4",
   "metadata": {},
   "outputs": [
    {
     "name": "stdout",
     "output_type": "stream",
     "text": [
      "GIF saved to animation.gif\n"
     ]
    }
   ],
   "source": [
    "import base64\n",
    "import io\n",
    "from PIL import Image\n",
    "\n",
    "def create_gif_from_base64(base64_frames, output_path='animation.gif', duration=1):\n",
    "    \"\"\"\n",
    "    Creates a GIF from a list of base64-encoded image strings.\n",
    "\n",
    "    Args:\n",
    "        base64_frames (list): A list of base64 image strings.\n",
    "        output_path (str): The name of the output GIF file.\n",
    "        duration (int): The duration of each frame in milliseconds.\n",
    "    \"\"\"\n",
    "    # Create an empty list to store the PIL Image objects\n",
    "    frames = []\n",
    "\n",
    "    # Loop through each base64 string, decode it, and convert it to a PIL Image\n",
    "    for b64_str in base64_frames:\n",
    "        # Remove the \"data:image/jpeg;base64,\" prefix\n",
    "        img_data = b64_str.split(',')[1]\n",
    "\n",
    "        # Decode the base64 string\n",
    "        img_bytes = base64.b64decode(img_data)\n",
    "\n",
    "        # Open the image from the bytes and add it to our list\n",
    "        frames.append(Image.open(io.BytesIO(img_bytes)))\n",
    "\n",
    "    # Save the list of images as a GIF\n",
    "    frames[0].save(\n",
    "        output_path,\n",
    "        save_all=True,\n",
    "        append_images=frames[1:],\n",
    "        duration=duration,\n",
    "        loop=0  # Loop forever\n",
    "    )\n",
    "    print(f\"GIF saved to {output_path}\")\n",
    "\n",
    "create_gif_from_base64(umap_df['base64_frame'].values, output_path='animation.gif')"
   ]
  },
  {
   "cell_type": "code",
   "execution_count": null,
   "id": "5682bdd3",
   "metadata": {},
   "outputs": [
    {
     "data": {
      "text/html": [
       "<img src=\"../animation.gif?a=2\">"
      ],
      "text/plain": [
       "<IPython.core.display.HTML object>"
      ]
     },
     "execution_count": 174,
     "metadata": {},
     "output_type": "execute_result"
    }
   ],
   "source": [
    "from IPython.display import HTML\n",
    "\n",
    "HTML('<img src=\"../animation.gif?a=3\">')"
   ]
  },
  {
   "cell_type": "code",
   "execution_count": 175,
   "id": "7a0e0a7b",
   "metadata": {},
   "outputs": [
    {
     "data": {
      "text/html": [
       "\n",
       "        <iframe\n",
       "            width=\"100%\"\n",
       "            height=\"650\"\n",
       "            src=\"http://127.0.0.1:8050/\"\n",
       "            frameborder=\"0\"\n",
       "            allowfullscreen\n",
       "            \n",
       "        ></iframe>\n",
       "        "
      ],
      "text/plain": [
       "<IPython.lib.display.IFrame at 0x34262d010>"
      ]
     },
     "metadata": {},
     "output_type": "display_data"
    }
   ],
   "source": [
    "import plotly.graph_objects as go\n",
    "\n",
    "\n",
    "def render_dataframe(dataframe, color_selector='episode_num'):\n",
    "    fig = go.Figure(\n",
    "        data=go.Scatter3d(\n",
    "            x=dataframe['dim 1'],\n",
    "            y=dataframe['dim 2'],\n",
    "            z=dataframe['dim 3'],\n",
    "            mode='markers',\n",
    "            marker=dict(\n",
    "                size=5,\n",
    "                color=dataframe[color_selector],\n",
    "                colorscale='darkmint',\n",
    "                colorbar=dict(title=color_selector),\n",
    "            ),\n",
    "            customdata=np.stack([\n",
    "                dataframe['episode_num'],\n",
    "                dataframe['step_num'],\n",
    "                dataframe['reward'],\n",
    "                dataframe['projection_distance'],\n",
    "                dataframe['embedding_distance'],\n",
    "                dataframe['base64_frame'],\n",
    "            ], axis=-1),\n",
    "        ),\n",
    "      frames=[go.Frame(\n",
    "        data=[go.Scatter3d(\n",
    "          x=dataframe['dim 1'][:i+1],\n",
    "          y=dataframe['dim 2'][:i+1],\n",
    "          z=dataframe['dim 3'][:i+1],\n",
    "          mode='markers',\n",
    "          marker=dict(\n",
    "              size=5,\n",
    "              color=dataframe[color_selector][:i+1],\n",
    "              colorscale='darkmint',\n",
    "              colorbar=dict(title=color_selector),\n",
    "          ),\n",
    "        )]\n",
    "      ) for i in range(len(dataframe))],\n",
    "    # Now we got to update menues to show the play buttton action\n",
    "        layout=go.Layout(\n",
    "            width=600, height=600,\n",
    "            scene=dict(\n",
    "                xaxis=dict(range=[-10, 10], autorange=True, zeroline=True),\n",
    "                yaxis=dict(range=[-10, 10], autorange=True, zeroline=True),\n",
    "                zaxis=dict(range=[-10, 10], autorange=True, zeroline=True),\n",
    "            ),\n",
    "            updatemenus=[dict(type=\"buttons\",\n",
    "                                        buttons=[dict(label=\"Play\",\n",
    "                                                        method=\"animate\",\n",
    "                                                        args=[None])])]\n",
    "        )\n",
    "    )\n",
    "    return fig\n",
    "\n",
    "# Set up the app now\n",
    "app = Dash()\n",
    "\n",
    "app.layout = html.Div(\n",
    "    children=[\n",
    "        html.Div(\n",
    "            children=[\n",
    "                dcc.Graph(id=\"graph-2-dcc\", figure=render_dataframe(pca_df, color_selector='reward'), clear_on_unhover=True),\n",
    "                dcc.Tooltip(id=\"graph-tooltip-2\"),\n",
    "            ],\n",
    "            style={'display': 'inline-block', 'width': '45%'}\n",
    "        ),\n",
    "        html.Div(\n",
    "            children=[\n",
    "                dcc.Graph(id=\"graph-3-dcc\", figure=render_dataframe(umap_df, color_selector='reward'), clear_on_unhover=True),\n",
    "                dcc.Tooltip(id=\"graph-tooltip-3\"),\n",
    "            ],\n",
    "            style={'display': 'inline-block', 'width': '45%'}\n",
    "        ),\n",
    "        html.Div(\n",
    "            children=[\n",
    "                dcc.Graph(id=\"graph-4-dcc\", figure=render_dataframe(tsne_df, color_selector='reward'), clear_on_unhover=True),\n",
    "                dcc.Tooltip(id=\"graph-tooltip-4\"),\n",
    "            ],\n",
    "            style={'display': 'inline-block', 'width': '45%'}\n",
    "        ),\n",
    "    ],\n",
    ")\n",
    "\n",
    "@callback(\n",
    "    Output(\"graph-tooltip-2\", \"show\"),\n",
    "    Output(\"graph-tooltip-2\", \"bbox\"),\n",
    "    Output(\"graph-tooltip-2\", \"children\"),\n",
    "    Output(\"graph-tooltip-2\", \"direction\"),\n",
    "    Input(\"graph-2-dcc\", \"hoverData\"),\n",
    ")\n",
    "def display_hover(hoverData):\n",
    "    if hoverData is None:\n",
    "        return False, no_update, no_update, no_update\n",
    "\n",
    "    # demo only shows the first point, but other points may also be available\n",
    "    hover_data = hoverData[\"points\"][0]\n",
    "    bbox = hover_data[\"bbox\"]\n",
    "\n",
    "    # dump it to base64\n",
    "    im_url = hover_data['customdata'][5]\n",
    "    # control the position of the tooltip\n",
    "    y = hover_data[\"y\"]\n",
    "    direction = \"bottom\" if y > 1.5 else \"top\"\n",
    "\n",
    "    children = [\n",
    "        html.Img(\n",
    "            src=im_url,\n",
    "            style={\"width\": \"250px\"},\n",
    "        ),\n",
    "        html.P(\"Episode: {}\".format(hover_data['customdata'][0])),\n",
    "    ]\n",
    "\n",
    "    return True, bbox, children, direction\n",
    "\n",
    "\n",
    "@callback(\n",
    "    Output(\"graph-tooltip-3\", \"show\"),\n",
    "    Output(\"graph-tooltip-3\", \"bbox\"),\n",
    "    Output(\"graph-tooltip-3\", \"children\"),\n",
    "    Output(\"graph-tooltip-3\", \"direction\"),\n",
    "    Input(\"graph-3-dcc\", \"hoverData\"),\n",
    ")\n",
    "def display_hover_3(hoverData):\n",
    "    if hoverData is None:\n",
    "        return False, no_update, no_update, no_update\n",
    "    \n",
    "    hover_data = hoverData[\"points\"][0]\n",
    "    bbox = hover_data[\"bbox\"]\n",
    "\n",
    "    im_url = hover_data['customdata'][5]\n",
    "    y = hover_data[\"y\"]\n",
    "    direction = \"bottom\" if y > 1.5 else \"top\"\n",
    "\n",
    "    children = [\n",
    "        html.Img(\n",
    "            src=im_url,\n",
    "            style={\"width\": \"250px\"},\n",
    "        ),\n",
    "        html.P(\"Episode: {}\".format(hover_data['customdata'][0])),\n",
    "    ]\n",
    "\n",
    "    return True, bbox, children, direction\n",
    "\n",
    "\n",
    "@callback(\n",
    "    Output(\"graph-tooltip-4\", \"show\"),\n",
    "    Output(\"graph-tooltip-4\", \"bbox\"),\n",
    "    Output(\"graph-tooltip-4\", \"children\"),\n",
    "    Output(\"graph-tooltip-4\", \"direction\"),\n",
    "    Input(\"graph-4-dcc\", \"hoverData\"),\n",
    ")\n",
    "def display_hover_4(hoverData):\n",
    "    if hoverData is None:\n",
    "        return False, no_update, no_update, no_update\n",
    "    \n",
    "    hover_data = hoverData[\"points\"][0]\n",
    "    bbox = hover_data[\"bbox\"]\n",
    "\n",
    "    im_url = hover_data['customdata'][5]\n",
    "    y = hover_data[\"y\"]\n",
    "    direction = \"bottom\" if y > 1.5 else \"top\"\n",
    "\n",
    "    children = [\n",
    "        html.Img(\n",
    "            src=im_url,\n",
    "            style={\"width\": \"250px\"},\n",
    "        ),\n",
    "        html.P(\"Episode: {}\".format(hover_data['customdata'][0])),\n",
    "    ]\n",
    "\n",
    "    return True, bbox, children, direction\n",
    "\n",
    "\n",
    "\n",
    "app.run(debug=True)\n"
   ]
  },
  {
   "cell_type": "code",
   "execution_count": 176,
   "id": "c9ce1ab9",
   "metadata": {},
   "outputs": [
    {
     "data": {
      "application/vnd.plotly.v1+json": {
       "config": {
        "plotlyServerURL": "https://plot.ly"
       },
       "data": [
        {
         "mode": "markers",
         "type": "scatter",
         "x": {
          "bdata": "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",
          "dtype": "f8"
         },
         "y": {
          "bdata": "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",
          "dtype": "f8"
         }
        }
       ],
       "layout": {
        "height": 500,
        "template": {
         "data": {
          "bar": [
           {
            "error_x": {
             "color": "#2a3f5f"
            },
            "error_y": {
             "color": "#2a3f5f"
            },
            "marker": {
             "line": {
              "color": "#E5ECF6",
              "width": 0.5
             },
             "pattern": {
              "fillmode": "overlay",
              "size": 10,
              "solidity": 0.2
             }
            },
            "type": "bar"
           }
          ],
          "barpolar": [
           {
            "marker": {
             "line": {
              "color": "#E5ECF6",
              "width": 0.5
             },
             "pattern": {
              "fillmode": "overlay",
              "size": 10,
              "solidity": 0.2
             }
            },
            "type": "barpolar"
           }
          ],
          "carpet": [
           {
            "aaxis": {
             "endlinecolor": "#2a3f5f",
             "gridcolor": "white",
             "linecolor": "white",
             "minorgridcolor": "white",
             "startlinecolor": "#2a3f5f"
            },
            "baxis": {
             "endlinecolor": "#2a3f5f",
             "gridcolor": "white",
             "linecolor": "white",
             "minorgridcolor": "white",
             "startlinecolor": "#2a3f5f"
            },
            "type": "carpet"
           }
          ],
          "choropleth": [
           {
            "colorbar": {
             "outlinewidth": 0,
             "ticks": ""
            },
            "type": "choropleth"
           }
          ],
          "contour": [
           {
            "colorbar": {
             "outlinewidth": 0,
             "ticks": ""
            },
            "colorscale": [
             [
              0,
              "#0d0887"
             ],
             [
              0.1111111111111111,
              "#46039f"
             ],
             [
              0.2222222222222222,
              "#7201a8"
             ],
             [
              0.3333333333333333,
              "#9c179e"
             ],
             [
              0.4444444444444444,
              "#bd3786"
             ],
             [
              0.5555555555555556,
              "#d8576b"
             ],
             [
              0.6666666666666666,
              "#ed7953"
             ],
             [
              0.7777777777777778,
              "#fb9f3a"
             ],
             [
              0.8888888888888888,
              "#fdca26"
             ],
             [
              1,
              "#f0f921"
             ]
            ],
            "type": "contour"
           }
          ],
          "contourcarpet": [
           {
            "colorbar": {
             "outlinewidth": 0,
             "ticks": ""
            },
            "type": "contourcarpet"
           }
          ],
          "heatmap": [
           {
            "colorbar": {
             "outlinewidth": 0,
             "ticks": ""
            },
            "colorscale": [
             [
              0,
              "#0d0887"
             ],
             [
              0.1111111111111111,
              "#46039f"
             ],
             [
              0.2222222222222222,
              "#7201a8"
             ],
             [
              0.3333333333333333,
              "#9c179e"
             ],
             [
              0.4444444444444444,
              "#bd3786"
             ],
             [
              0.5555555555555556,
              "#d8576b"
             ],
             [
              0.6666666666666666,
              "#ed7953"
             ],
             [
              0.7777777777777778,
              "#fb9f3a"
             ],
             [
              0.8888888888888888,
              "#fdca26"
             ],
             [
              1,
              "#f0f921"
             ]
            ],
            "type": "heatmap"
           }
          ],
          "histogram": [
           {
            "marker": {
             "pattern": {
              "fillmode": "overlay",
              "size": 10,
              "solidity": 0.2
             }
            },
            "type": "histogram"
           }
          ],
          "histogram2d": [
           {
            "colorbar": {
             "outlinewidth": 0,
             "ticks": ""
            },
            "colorscale": [
             [
              0,
              "#0d0887"
             ],
             [
              0.1111111111111111,
              "#46039f"
             ],
             [
              0.2222222222222222,
              "#7201a8"
             ],
             [
              0.3333333333333333,
              "#9c179e"
             ],
             [
              0.4444444444444444,
              "#bd3786"
             ],
             [
              0.5555555555555556,
              "#d8576b"
             ],
             [
              0.6666666666666666,
              "#ed7953"
             ],
             [
              0.7777777777777778,
              "#fb9f3a"
             ],
             [
              0.8888888888888888,
              "#fdca26"
             ],
             [
              1,
              "#f0f921"
             ]
            ],
            "type": "histogram2d"
           }
          ],
          "histogram2dcontour": [
           {
            "colorbar": {
             "outlinewidth": 0,
             "ticks": ""
            },
            "colorscale": [
             [
              0,
              "#0d0887"
             ],
             [
              0.1111111111111111,
              "#46039f"
             ],
             [
              0.2222222222222222,
              "#7201a8"
             ],
             [
              0.3333333333333333,
              "#9c179e"
             ],
             [
              0.4444444444444444,
              "#bd3786"
             ],
             [
              0.5555555555555556,
              "#d8576b"
             ],
             [
              0.6666666666666666,
              "#ed7953"
             ],
             [
              0.7777777777777778,
              "#fb9f3a"
             ],
             [
              0.8888888888888888,
              "#fdca26"
             ],
             [
              1,
              "#f0f921"
             ]
            ],
            "type": "histogram2dcontour"
           }
          ],
          "mesh3d": [
           {
            "colorbar": {
             "outlinewidth": 0,
             "ticks": ""
            },
            "type": "mesh3d"
           }
          ],
          "parcoords": [
           {
            "line": {
             "colorbar": {
              "outlinewidth": 0,
              "ticks": ""
             }
            },
            "type": "parcoords"
           }
          ],
          "pie": [
           {
            "automargin": true,
            "type": "pie"
           }
          ],
          "scatter": [
           {
            "fillpattern": {
             "fillmode": "overlay",
             "size": 10,
             "solidity": 0.2
            },
            "type": "scatter"
           }
          ],
          "scatter3d": [
           {
            "line": {
             "colorbar": {
              "outlinewidth": 0,
              "ticks": ""
             }
            },
            "marker": {
             "colorbar": {
              "outlinewidth": 0,
              "ticks": ""
             }
            },
            "type": "scatter3d"
           }
          ],
          "scattercarpet": [
           {
            "marker": {
             "colorbar": {
              "outlinewidth": 0,
              "ticks": ""
             }
            },
            "type": "scattercarpet"
           }
          ],
          "scattergeo": [
           {
            "marker": {
             "colorbar": {
              "outlinewidth": 0,
              "ticks": ""
             }
            },
            "type": "scattergeo"
           }
          ],
          "scattergl": [
           {
            "marker": {
             "colorbar": {
              "outlinewidth": 0,
              "ticks": ""
             }
            },
            "type": "scattergl"
           }
          ],
          "scattermap": [
           {
            "marker": {
             "colorbar": {
              "outlinewidth": 0,
              "ticks": ""
             }
            },
            "type": "scattermap"
           }
          ],
          "scattermapbox": [
           {
            "marker": {
             "colorbar": {
              "outlinewidth": 0,
              "ticks": ""
             }
            },
            "type": "scattermapbox"
           }
          ],
          "scatterpolar": [
           {
            "marker": {
             "colorbar": {
              "outlinewidth": 0,
              "ticks": ""
             }
            },
            "type": "scatterpolar"
           }
          ],
          "scatterpolargl": [
           {
            "marker": {
             "colorbar": {
              "outlinewidth": 0,
              "ticks": ""
             }
            },
            "type": "scatterpolargl"
           }
          ],
          "scatterternary": [
           {
            "marker": {
             "colorbar": {
              "outlinewidth": 0,
              "ticks": ""
             }
            },
            "type": "scatterternary"
           }
          ],
          "surface": [
           {
            "colorbar": {
             "outlinewidth": 0,
             "ticks": ""
            },
            "colorscale": [
             [
              0,
              "#0d0887"
             ],
             [
              0.1111111111111111,
              "#46039f"
             ],
             [
              0.2222222222222222,
              "#7201a8"
             ],
             [
              0.3333333333333333,
              "#9c179e"
             ],
             [
              0.4444444444444444,
              "#bd3786"
             ],
             [
              0.5555555555555556,
              "#d8576b"
             ],
             [
              0.6666666666666666,
              "#ed7953"
             ],
             [
              0.7777777777777778,
              "#fb9f3a"
             ],
             [
              0.8888888888888888,
              "#fdca26"
             ],
             [
              1,
              "#f0f921"
             ]
            ],
            "type": "surface"
           }
          ],
          "table": [
           {
            "cells": {
             "fill": {
              "color": "#EBF0F8"
             },
             "line": {
              "color": "white"
             }
            },
            "header": {
             "fill": {
              "color": "#C8D4E3"
             },
             "line": {
              "color": "white"
             }
            },
            "type": "table"
           }
          ]
         },
         "layout": {
          "annotationdefaults": {
           "arrowcolor": "#2a3f5f",
           "arrowhead": 0,
           "arrowwidth": 1
          },
          "autotypenumbers": "strict",
          "coloraxis": {
           "colorbar": {
            "outlinewidth": 0,
            "ticks": ""
           }
          },
          "colorscale": {
           "diverging": [
            [
             0,
             "#8e0152"
            ],
            [
             0.1,
             "#c51b7d"
            ],
            [
             0.2,
             "#de77ae"
            ],
            [
             0.3,
             "#f1b6da"
            ],
            [
             0.4,
             "#fde0ef"
            ],
            [
             0.5,
             "#f7f7f7"
            ],
            [
             0.6,
             "#e6f5d0"
            ],
            [
             0.7,
             "#b8e186"
            ],
            [
             0.8,
             "#7fbc41"
            ],
            [
             0.9,
             "#4d9221"
            ],
            [
             1,
             "#276419"
            ]
           ],
           "sequential": [
            [
             0,
             "#0d0887"
            ],
            [
             0.1111111111111111,
             "#46039f"
            ],
            [
             0.2222222222222222,
             "#7201a8"
            ],
            [
             0.3333333333333333,
             "#9c179e"
            ],
            [
             0.4444444444444444,
             "#bd3786"
            ],
            [
             0.5555555555555556,
             "#d8576b"
            ],
            [
             0.6666666666666666,
             "#ed7953"
            ],
            [
             0.7777777777777778,
             "#fb9f3a"
            ],
            [
             0.8888888888888888,
             "#fdca26"
            ],
            [
             1,
             "#f0f921"
            ]
           ],
           "sequentialminus": [
            [
             0,
             "#0d0887"
            ],
            [
             0.1111111111111111,
             "#46039f"
            ],
            [
             0.2222222222222222,
             "#7201a8"
            ],
            [
             0.3333333333333333,
             "#9c179e"
            ],
            [
             0.4444444444444444,
             "#bd3786"
            ],
            [
             0.5555555555555556,
             "#d8576b"
            ],
            [
             0.6666666666666666,
             "#ed7953"
            ],
            [
             0.7777777777777778,
             "#fb9f3a"
            ],
            [
             0.8888888888888888,
             "#fdca26"
            ],
            [
             1,
             "#f0f921"
            ]
           ]
          },
          "colorway": [
           "#636efa",
           "#EF553B",
           "#00cc96",
           "#ab63fa",
           "#FFA15A",
           "#19d3f3",
           "#FF6692",
           "#B6E880",
           "#FF97FF",
           "#FECB52"
          ],
          "font": {
           "color": "#2a3f5f"
          },
          "geo": {
           "bgcolor": "white",
           "lakecolor": "white",
           "landcolor": "#E5ECF6",
           "showlakes": true,
           "showland": true,
           "subunitcolor": "white"
          },
          "hoverlabel": {
           "align": "left"
          },
          "hovermode": "closest",
          "mapbox": {
           "style": "light"
          },
          "paper_bgcolor": "white",
          "plot_bgcolor": "#E5ECF6",
          "polar": {
           "angularaxis": {
            "gridcolor": "white",
            "linecolor": "white",
            "ticks": ""
           },
           "bgcolor": "#E5ECF6",
           "radialaxis": {
            "gridcolor": "white",
            "linecolor": "white",
            "ticks": ""
           }
          },
          "scene": {
           "xaxis": {
            "backgroundcolor": "#E5ECF6",
            "gridcolor": "white",
            "gridwidth": 2,
            "linecolor": "white",
            "showbackground": true,
            "ticks": "",
            "zerolinecolor": "white"
           },
           "yaxis": {
            "backgroundcolor": "#E5ECF6",
            "gridcolor": "white",
            "gridwidth": 2,
            "linecolor": "white",
            "showbackground": true,
            "ticks": "",
            "zerolinecolor": "white"
           },
           "zaxis": {
            "backgroundcolor": "#E5ECF6",
            "gridcolor": "white",
            "gridwidth": 2,
            "linecolor": "white",
            "showbackground": true,
            "ticks": "",
            "zerolinecolor": "white"
           }
          },
          "shapedefaults": {
           "line": {
            "color": "#2a3f5f"
           }
          },
          "ternary": {
           "aaxis": {
            "gridcolor": "white",
            "linecolor": "white",
            "ticks": ""
           },
           "baxis": {
            "gridcolor": "white",
            "linecolor": "white",
            "ticks": ""
           },
           "bgcolor": "#E5ECF6",
           "caxis": {
            "gridcolor": "white",
            "linecolor": "white",
            "ticks": ""
           }
          },
          "title": {
           "x": 0.05
          },
          "xaxis": {
           "automargin": true,
           "gridcolor": "white",
           "linecolor": "white",
           "ticks": "",
           "title": {
            "standoff": 15
           },
           "zerolinecolor": "white",
           "zerolinewidth": 2
          },
          "yaxis": {
           "automargin": true,
           "gridcolor": "white",
           "linecolor": "white",
           "ticks": "",
           "title": {
            "standoff": 15
           },
           "zerolinecolor": "white",
           "zerolinewidth": 2
          }
         }
        },
        "title": {
         "text": "Embedding Distance vs. Projection Distance"
        },
        "width": 600,
        "xaxis": {
         "title": {
          "text": "Embedding Distance"
         }
        },
        "yaxis": {
         "title": {
          "text": "Projection Distance"
         }
        }
       }
      }
     },
     "metadata": {},
     "output_type": "display_data"
    }
   ],
   "source": [
    "# Now let's scatter plot embedding_distance_color and umap_distance_color\n",
    "fig = go.Figure(\n",
    "  data=[\n",
    "    go.Scatter(x=pca_df['embedding_distance'], y=pca_df['projection_distance'], mode='markers')\n",
    "  ],\n",
    "  layout=go.Layout(\n",
    "    title=\"Embedding Distance vs. Projection Distance\",\n",
    "    xaxis=dict(title=\"Embedding Distance\"),\n",
    "    yaxis=dict(title=\"Projection Distance\"),\n",
    "    height=500,\n",
    "    width=600\n",
    "  )\n",
    ")\n",
    "\n",
    "fig.show()"
   ]
  },
  {
   "cell_type": "code",
   "execution_count": null,
   "id": "6d2c7b7a",
   "metadata": {},
   "outputs": [],
   "source": []
  }
 ],
 "metadata": {
  "kernelspec": {
   "display_name": "MarioBros",
   "language": "python",
   "name": "python3"
  },
  "language_info": {
   "codemirror_mode": {
    "name": "ipython",
    "version": 3
   },
   "file_extension": ".py",
   "mimetype": "text/x-python",
   "name": "python",
   "nbconvert_exporter": "python",
   "pygments_lexer": "ipython3",
   "version": "3.11.13"
  }
 },
 "nbformat": 4,
 "nbformat_minor": 5
}
